{
 "cells": [
  {
   "cell_type": "markdown",
   "metadata": {},
   "source": [
    "# Python Fundamentals"
   ]
  },
  {
   "cell_type": "markdown",
   "metadata": {},
   "source": [
    "## Handling files\n",
    "### Exercise\n",
    "Open Finn.txt file, read lines into a list. Remove trailing white spaces from each line. Write the resulting list to the new file. How many lines does the new file have? (hint: empty list is made with [])"
   ]
  },
  {
   "cell_type": "code",
   "execution_count": 1,
   "metadata": {
    "collapsed": true
   },
   "outputs": [],
   "source": [
    "finn_path='Finn.txt' #Declaramos el fichero / Declare the file"
   ]
  },
  {
   "cell_type": "code",
   "execution_count": 2,
   "metadata": {},
   "outputs": [],
   "source": [
    "#help(open)\n",
    "finn_file=open(file=finn_path,mode='r',encoding='UTF-8') #Abrimos fichero /Open file\n",
    "#print(finn_file)"
   ]
  },
  {
   "cell_type": "code",
   "execution_count": 3,
   "metadata": {},
   "outputs": [],
   "source": [
    "finn_lines=finn_file.readlines() #Leemos las líneas del fichero / Read file lines\n",
    "#type(finn_lines) - tipo de dato\n",
    "#finn_lines - contenido\n",
    "#line = 'Buenos días\\n'\n",
    "#help(line.rstrip) - elimina espacio final en blanco de la línea\n",
    "#type(line)\n",
    "#line.rstrip() - probamos función rstrip"
   ]
  },
  {
   "cell_type": "code",
   "execution_count": 4,
   "metadata": {},
   "outputs": [],
   "source": [
    "#Eliminamos espacios de cada línea / Remove spaces from each line\n",
    "finn_lines_withoutspaces=[]\n",
    "for line in finn_lines:\n",
    "    line_withoutspaces=line.rstrip()\n",
    "    finn_lines_withoutspaces.append(line_withoutspaces)"
   ]
  },
  {
   "cell_type": "code",
   "execution_count": 5,
   "metadata": {},
   "outputs": [],
   "source": [
    "out_finn=open('Finn_withouttrailingwhitespaces.txt','w') #Creamos nuevo fichero / Create new file\n",
    "out_finn.writelines(finn_lines_withoutspaces) # Escribimos / Write\n",
    "out_finn.close()#Cerramos fichero / Close file"
   ]
  },
  {
   "cell_type": "code",
   "execution_count": 6,
   "metadata": {},
   "outputs": [],
   "source": [
    "#Comprobamos el contenido del fichero / Check the file contents\n",
    "finn_file_notrailingwhitespace = open('Finn_withouttrailingwhitespaces.txt','r')\n",
    "finn_lines_nowhitespace = finn_file_notrailingwhitespace.readlines()\n",
    "finn_file_notrailingwhitespace.close()\n",
    "#finn_lines_nowhitespace"
   ]
  }
 ],
 "metadata": {
  "kernelspec": {
   "display_name": "Python 3",
   "language": "python",
   "name": "python3"
  },
  "language_info": {
   "codemirror_mode": {
    "name": "ipython",
    "version": 3
   },
   "file_extension": ".py",
   "mimetype": "text/x-python",
   "name": "python",
   "nbconvert_exporter": "python",
   "pygments_lexer": "ipython3",
   "version": "3.6.2"
  }
 },
 "nbformat": 4,
 "nbformat_minor": 2
}
