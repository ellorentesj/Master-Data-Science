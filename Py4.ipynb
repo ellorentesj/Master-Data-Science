{
 "cells": [
  {
   "cell_type": "markdown",
   "metadata": {},
   "source": [
    "# Exercise\n",
    "## Quick Exercises 4\n",
    "### Exercise 4.6\n",
    "Write a Python function that takes a list of words and returns the length of the longest one."
   ]
  },
  {
   "cell_type": "code",
   "execution_count": 1,
   "metadata": {},
   "outputs": [
    {
     "data": {
      "text/plain": [
       "4"
      ]
     },
     "execution_count": 1,
     "metadata": {},
     "output_type": "execute_result"
    }
   ],
   "source": [
    "# Manera 1\n",
    "list_words = ['go','home','it','is','too','late']\n",
    "\n",
    "def longest_word (list_words):\n",
    "    long_word=''\n",
    "    for word in list_words:\n",
    "        if len(word) > len(long_word):\n",
    "            long_word = word\n",
    "        else:\n",
    "            long_word = long_word\n",
    "    return len(long_word)\n",
    "long = longest_word(list_words)\n",
    "long"
   ]
  },
  {
   "cell_type": "code",
   "execution_count": 3,
   "metadata": {},
   "outputs": [
    {
     "name": "stdout",
     "output_type": "stream",
     "text": [
      "5\n",
      "0\n",
      "6\n"
     ]
    }
   ],
   "source": [
    "# Manera 2\n",
    "def longest_of(list_of_words):\n",
    "    # Same pattern we're often done, but summing to an int variable instead of appending\n",
    "    # to a list:\n",
    "    length_so_far = 0\n",
    "    for word in list_of_words:\n",
    "        this_lenght = len(word)\n",
    "        if this_lenght > length_so_far:\n",
    "            length_so_far = this_lenght\n",
    "    return length_so_far\n",
    "print(longest_of(['man','woman']))\n",
    "print(longest_of([]))\n",
    "print(longest_of(['tocoto','man','woman']))"
   ]
  },
  {
   "cell_type": "code",
   "execution_count": 4,
   "metadata": {},
   "outputs": [
    {
     "name": "stdout",
     "output_type": "stream",
     "text": [
      "[6, 3, 5]\n"
     ]
    },
    {
     "data": {
      "text/plain": [
       "[3, 3, 3]"
      ]
     },
     "execution_count": 4,
     "metadata": {},
     "output_type": "execute_result"
    }
   ],
   "source": [
    "# solución funcional\n",
    "list_of_words = ['tocoto','man','woman']\n",
    "print(list(map(len,list_of_words)))\n",
    "\n",
    "# list comprehension\n",
    "[len(list_of_words) for word in list_of_words]\n",
    "# quiero crear una lista que salga de list_of_words y quiero aplicar la funcion len a cada \n",
    "# elemento de la lista"
   ]
  },
  {
   "cell_type": "code",
   "execution_count": 5,
   "metadata": {},
   "outputs": [
    {
     "name": "stdout",
     "output_type": "stream",
     "text": [
      "5\n",
      "0\n",
      "6\n"
     ]
    }
   ],
   "source": [
    "# Según esto, manera 3\n",
    "def longest_of_2(list_of_words):\n",
    "    # We can apply a list comprehension to the job:\n",
    "    lenghts = [len(word) for word in list_of_words]\n",
    "    if len(list_of_words) == 0:\n",
    "        longest = None\n",
    "    else:\n",
    "        longest = max(lenghts)\n",
    "    return longest\n",
    "print(longest_of(['man','woman']))\n",
    "print(longest_of([]))\n",
    "print(longest_of(['tocoto','man','woman']))"
   ]
  },
  {
   "cell_type": "markdown",
   "metadata": {},
   "source": [
    "### Exercise 4.3\n",
    "Prepare again a list with 10 names. Make a function with two input variables: list, and character; that returns a list of names containing one or more of input characters ’s inside the name."
   ]
  },
  {
   "cell_type": "code",
   "execution_count": 6,
   "metadata": {},
   "outputs": [
    {
     "name": "stdout",
     "output_type": "stream",
     "text": [
      "['tocoto', 'woman']\n",
      "[]\n"
     ]
    }
   ],
   "source": [
    "# Manera 1\n",
    "def names_with(list_of_names,character):\n",
    "    names = []\n",
    "    # In this case, we must keep only those that fullfill the criterion\n",
    "    for name in list_of_names:\n",
    "        if character in name:\n",
    "            names.append(name)\n",
    "    return names\n",
    "print(names_with(list_of_words,'o'))\n",
    "print(names_with([],'o'))"
   ]
  },
  {
   "cell_type": "code",
   "execution_count": 7,
   "metadata": {},
   "outputs": [
    {
     "name": "stdout",
     "output_type": "stream",
     "text": [
      "['tocoto', 'woman']\n",
      "[]\n"
     ]
    }
   ],
   "source": [
    "# Manera 2\n",
    "def names_with_2(list_of_names,character):\n",
    "    # Again, we can do this with a list comprehension\n",
    "    return [name for name in list_of_names if character in name]\n",
    "print(names_with(list_of_words,'o'))\n",
    "print(names_with([],'o'))"
   ]
  },
  {
   "cell_type": "markdown",
   "metadata": {},
   "source": [
    "If we want to introduce an else in a list comprehension, we need to male use of the so-called ternary expression in python:"
   ]
  },
  {
   "cell_type": "code",
   "execution_count": 9,
   "metadata": {},
   "outputs": [
    {
     "data": {
      "text/plain": [
       "1"
      ]
     },
     "execution_count": 9,
     "metadata": {},
     "output_type": "execute_result"
    }
   ],
   "source": [
    "# Operador ternario\n",
    "a = 1 if len(list_of_words) > 0 else 0 # Todo esto cuenta como un único operador\n",
    "a"
   ]
  },
  {
   "cell_type": "code",
   "execution_count": 10,
   "metadata": {},
   "outputs": [
    {
     "name": "stdout",
     "output_type": "stream",
     "text": [
      "['tocoto', 'woman']\n",
      "[]\n"
     ]
    }
   ],
   "source": [
    "# Manera 3\n",
    "def filter_names_without(list_of_names,character):\n",
    "    return [name if character in name else '' for name in list_of_names]\n",
    "print(names_with(list_of_words,'o'))\n",
    "print(names_with([],'o'))"
   ]
  },
  {
   "cell_type": "markdown",
   "metadata": {},
   "source": [
    "### Exersice 4.1\n",
    "For a sequence [1, 2, 3, 4, 5, 6, 7, 8 ] get the squared values using the lambda function."
   ]
  },
  {
   "cell_type": "markdown",
   "metadata": {},
   "source": [
    "This is a strainghforward application of map."
   ]
  },
  {
   "cell_type": "code",
   "execution_count": 11,
   "metadata": {},
   "outputs": [
    {
     "name": "stdout",
     "output_type": "stream",
     "text": [
      "[1, 4, 9, 16, 25, 36, 49, 64]\n",
      "[1, 4, 9, 16, 25, 36, 49, 64]\n"
     ]
    }
   ],
   "source": [
    "sequence = [1,2,3,4,5,6,7,8]\n",
    "print(list(map(lambda x: x**2, sequence)))\n",
    "print([x**2 for x in sequence])"
   ]
  },
  {
   "cell_type": "markdown",
   "metadata": {},
   "source": [
    "## Quick Exercises 5\n",
    "### Exercise 5.1"
   ]
  },
  {
   "cell_type": "markdown",
   "metadata": {},
   "source": [
    "Según la lista de palabras que se indica a continuación\n",
    "\n",
    "list_of_words = ['tocoto','man','woman','money','tail']\n",
    "\n",
    "Crear un diccionario con la primera letra de cada una de las palabras, agrupándolas\n",
    "\n",
    "desired_result = {'m':['man','woman'],'w':['woman'],'t':['tail','tocoto']}"
   ]
  },
  {
   "cell_type": "markdown",
   "metadata": {},
   "source": [
    "We need to realize that we need to check whether the key is already present in the dictionary, and then adjust our behavior accordingly:"
   ]
  },
  {
   "cell_type": "code",
   "execution_count": 13,
   "metadata": {},
   "outputs": [
    {
     "data": {
      "text/plain": [
       "{'m': ['man', 'money'], 't': ['tocoto', 'tail'], 'w': ['woman']}"
      ]
     },
     "execution_count": 13,
     "metadata": {},
     "output_type": "execute_result"
    }
   ],
   "source": [
    "def categorize(list_of_words):\n",
    "    dictionary = dict()\n",
    "    for word in list_of_words:\n",
    "        first = word[0]\n",
    "        if first not in dictionary:\n",
    "            dictionary[first] = [word]\n",
    "        else:\n",
    "            dictionary[first].append(word)\n",
    "    return dictionary\n",
    "categorize(list_of_words)"
   ]
  },
  {
   "cell_type": "markdown",
   "metadata": {},
   "source": [
    "That's exactly what .get() method is for!\n",
    "We can do the same operation, appending a word, whether we have an entry or not. If we don't, we need an empty list to append to."
   ]
  },
  {
   "cell_type": "code",
   "execution_count": 15,
   "metadata": {},
   "outputs": [
    {
     "data": {
      "text/plain": [
       "{'m': ['man', 'money'], 't': ['tocoto', 'tail'], 'w': ['woman']}"
      ]
     },
     "execution_count": 15,
     "metadata": {},
     "output_type": "execute_result"
    }
   ],
   "source": [
    "def categorize_2(list_of_words):\n",
    "    dictionary = dict()\n",
    "    for word in list_of_words:\n",
    "        first = word[0]\n",
    "        dictionary[first] = dictionary.get(first,[]) + [word]\n",
    "    return dictionary\n",
    "categorize_2(list_of_words)"
   ]
  },
  {
   "cell_type": "markdown",
   "metadata": {},
   "source": [
    "### Exercise 5.2"
   ]
  },
  {
   "cell_type": "code",
   "execution_count": 16,
   "metadata": {},
   "outputs": [
    {
     "name": "stdout",
     "output_type": "stream",
     "text": [
      "Help on built-in function sorted in module builtins:\n",
      "\n",
      "sorted(iterable, /, *, key=None, reverse=False)\n",
      "    Return a new list containing all items from the iterable in ascending order.\n",
      "    \n",
      "    A custom key function can be supplied to customize the sort order, and the\n",
      "    reverse flag can be set to request the result in descending order.\n",
      "\n"
     ]
    }
   ],
   "source": [
    "help(sorted)"
   ]
  },
  {
   "cell_type": "markdown",
   "metadata": {},
   "source": [
    "We need to find a function that takes a word and returns the number of different symbols in it... once we have that, we can pass ir to the key arguments"
   ]
  },
  {
   "cell_type": "code",
   "execution_count": 18,
   "metadata": {},
   "outputs": [
    {
     "name": "stdout",
     "output_type": "stream",
     "text": [
      "['tocoto', 'man', 'woman', 'money', 'tail']\n",
      "['tocoto', 'man', 'tail', 'woman', 'money']\n",
      "{'t', 'o', 'c'}\n"
     ]
    }
   ],
   "source": [
    "print(list_of_words)\n",
    "def sort_by_variety(list_of_words):\n",
    "    return sorted(list_of_words,key = lambda w: len(set(w)))\n",
    "print(sort_by_variety(list_of_words))\n",
    "print(set('tocoto'))"
   ]
  }
 ],
 "metadata": {
  "kernelspec": {
   "display_name": "Python 3",
   "language": "python",
   "name": "python3"
  },
  "language_info": {
   "codemirror_mode": {
    "name": "ipython",
    "version": 3
   },
   "file_extension": ".py",
   "mimetype": "text/x-python",
   "name": "python",
   "nbconvert_exporter": "python",
   "pygments_lexer": "ipython3",
   "version": "3.6.2"
  }
 },
 "nbformat": 4,
 "nbformat_minor": 2
}
