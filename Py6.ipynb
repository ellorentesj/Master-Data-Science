{
 "cells": [
  {
   "cell_type": "markdown",
   "metadata": {},
   "source": [
    "# Exercises\n",
    "## Exercise 1\n",
    "\n",
    "Create a sample of points that follow the equation $Y = AX + B$, where A = 2.5 and B = 20.\n",
    "\n",
    "Now, plot it as either a cloud of points or a line."
   ]
  },
  {
   "cell_type": "code",
   "execution_count": 2,
   "metadata": {
    "collapsed": true
   },
   "outputs": [],
   "source": [
    "import numpy as np\n",
    "import pandas as pd\n",
    "import matplotlib.pyplot as plt\n",
    "\n",
    "#Definimos el estilo de plotting que vamos a usar\n",
    "plt.style.use('ggplot')\n",
    "#Indicamos que los gráficos de matplotlib aparezcan dentro del terminal\n",
    "%matplotlib inline"
   ]
  },
  {
   "cell_type": "code",
   "execution_count": 2,
   "metadata": {},
   "outputs": [
    {
     "data": {
      "image/png": "[encoded data removed]",
      "text/plain": [
       "<matplotlib.figure.Figure at 0x10fc5fb70>"
      ]
     },
     "metadata": {},
     "output_type": "display_data"
    }
   ],
   "source": [
    "x = np.random.rand(20)\n",
    "y = 2.5 * x + 20\n",
    "\n",
    "plt.plot(x,y)\n",
    "plt.scatter(x,y,c='blue')\n",
    "plt.show()"
   ]
  },
  {
   "cell_type": "markdown",
   "metadata": {},
   "source": [
    "## Exercise 2"
   ]
  },
  {
   "cell_type": "code",
   "execution_count": 3,
   "metadata": {},
   "outputs": [
    {
     "data": {
      "image/png": "[encoded data removed]",
      "text/plain": [
       "<matplotlib.figure.Figure at 0x10fc5f9b0>"
      ]
     },
     "metadata": {},
     "output_type": "display_data"
    }
   ],
   "source": [
    "x2 = np.linspace(-3,5,100)\n",
    "y_square = x2**2\n",
    "plt.scatter (x2,y_square)\n",
    "plt.show()"
   ]
  },
  {
   "cell_type": "markdown",
   "metadata": {},
   "source": [
    "## Exercise 3\n",
    "In a chicken an rabbit farm, ther are 35 heads and 94 legs. How many chickens and how many rabbit do we have?\n",
    "Remember: for every number $n$\n",
    "\n",
    "$$A \\cdot X = B$$\n",
    "\n",
    "$$A^{-1} \\cdot A \\cdot X = I \\cdot X = A^{-1} \\cdot B$$\n",
    "\n",
    "$$X = A^{-1} \\cdot B$$\n",
    "\n",
    "\\* The language I've used to represent this formula is [$\\LaTeX$](https://www.latex-project.org/). It's used to typeset all kinds of things from cvs to scientific articles to books. You can find a quick introduction [here](https://www.cs.princeton.edu/courses/archive/spr10/cos433/Latex/latex-guide.pdf). Almost everything you need to know to write equations in the notebook is on pages 4,5 and 6 of that pdf.\n",
    "\n",
    "Example:\n",
    "\n",
    "$A^x A_i A^-1$\n",
    "\n",
    "p->pollo\n",
    "\n",
    "c->conejo\n",
    "\n",
    "ec.patas: 2p+4c=94\n",
    "\n",
    "ec.cabezas: 1p+1c=35"
   ]
  },
  {
   "cell_type": "code",
   "execution_count": 4,
   "metadata": {},
   "outputs": [
    {
     "data": {
      "text/plain": [
       "matrix([[ 23.],\n",
       "        [ 12.]])"
      ]
     },
     "execution_count": 4,
     "metadata": {},
     "output_type": "execute_result"
    }
   ],
   "source": [
    "A = np.mat([[2,4], [1,1]])\n",
    "B = np.mat([94,35]).T\n",
    "\n",
    "X = A.I.dot(B)\n",
    "X"
   ]
  },
  {
   "cell_type": "markdown",
   "metadata": {},
   "source": [
    "## Exercise 4\n",
    "Write a function that takes a Series and returns the top 10% registers. In this case, earners. Test it with this Series:\n",
    "\n",
    "salaries = pd.Series([150000,90000,120000,30000,10000,5000,40000,50000,80000,35000,27000,14000,28000,22000,25000])"
   ]
  },
  {
   "cell_type": "code",
   "execution_count": 3,
   "metadata": {},
   "outputs": [
    {
     "name": "stdout",
     "output_type": "stream",
     "text": [
      "0     150000\n",
      "1      90000\n",
      "2     120000\n",
      "3      30000\n",
      "4      10000\n",
      "5       5000\n",
      "6      40000\n",
      "7      50000\n",
      "8      80000\n",
      "9      35000\n",
      "10     27000\n",
      "11     14000\n",
      "12     28000\n",
      "13     22000\n",
      "14     25000\n",
      "dtype: int64\n"
     ]
    }
   ],
   "source": [
    "import pandas as pd\n",
    "\n",
    "salaries = pd.Series([150000,90000,120000,30000,10000,5000,40000,50000,80000,35000,27000,14000,28000,22000,25000])\n",
    "print(salaries)"
   ]
  },
  {
   "cell_type": "code",
   "execution_count": 6,
   "metadata": {},
   "outputs": [
    {
     "data": {
      "text/plain": [
       "1     90000\n",
       "2    120000\n",
       "0    150000\n",
       "dtype: int64"
      ]
     },
     "execution_count": 6,
     "metadata": {},
     "output_type": "execute_result"
    }
   ],
   "source": [
    "#round(len(salaries)/10)\n",
    "#salaries.rank(pct=True).sort_values(ascending=False)\n",
    "\n",
    "def top_earners(series):\n",
    "    number_to_extract = round(len(series) / 10)\n",
    "    return salaries.sort_values()[~number_to_extract:] #~ es para que se aplique a cada uno\n",
    "                                                       # de los elementos\n",
    "top_earners(salaries)"
   ]
  },
  {
   "cell_type": "code",
   "execution_count": 8,
   "metadata": {},
   "outputs": [
    {
     "name": "stdout",
     "output_type": "stream",
     "text": [
      "0    150000\n",
      "2    120000\n",
      "dtype: int64\n",
      "0    150000\n",
      "1     90000\n",
      "2    120000\n",
      "dtype: int64\n"
     ]
    }
   ],
   "source": [
    "def top_earners2(series,percentile = 0.9):\n",
    "    #el percentil es un número mágico\n",
    "    is_top_earner = series.rank(pct=True) > percentile\n",
    "    return series[is_top_earner]\n",
    "\n",
    "print(top_earners2(salaries))\n",
    "print(top_earners2(salaries,.8))"
   ]
  }
 ],
 "metadata": {
  "kernelspec": {
   "display_name": "Python 3",
   "language": "python",
   "name": "python3"
  },
  "language_info": {
   "codemirror_mode": {
    "name": "ipython",
    "version": 3
   },
   "file_extension": ".py",
   "mimetype": "text/x-python",
   "name": "python",
   "nbconvert_exporter": "python",
   "pygments_lexer": "ipython3",
   "version": "3.6.2"
  }
 },
 "nbformat": 4,
 "nbformat_minor": 2
}
