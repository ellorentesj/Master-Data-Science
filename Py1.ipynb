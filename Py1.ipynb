{
 "cells": [
  {
   "cell_type": "markdown",
   "metadata": {},
   "source": [
    "### Probando comandos de Linux / Testing Linux commands"
   ]
  },
  {
   "cell_type": "code",
   "execution_count": 2,
   "metadata": {},
   "outputs": [
    {
     "name": "stdout",
     "output_type": "stream",
     "text": [
      "/Users/ellorentesj/Desktop/MASTER/Teoria Master/Modulo 2 - Lenguajes Para Data Hacking/Semana 3\r\n"
     ]
    }
   ],
   "source": [
    "!pwd #ruta en la que nos encontramos / current route"
   ]
  },
  {
   "cell_type": "code",
   "execution_count": 4,
   "metadata": {},
   "outputs": [
    {
     "name": "stdout",
     "output_type": "stream",
     "text": [
      "total 2408\r\n",
      "-rw-r--r--@ 1 ellorentesj  staff    10595 Oct 22 06:34 2017_10_21.commands\r\n",
      "-rw-r--r--@ 1 ellorentesj  staff    18848 Nov  5 07:42 2017_11_03-04_ipython_cmd.txt\r\n",
      "-rw-r--r--@ 1 ellorentesj  staff     1560 Nov  5 07:42 2017_11_03_psql_cmd.txt\r\n",
      "-rw-r--r--@ 1 ellorentesj  staff    17852 Nov  5 07:42 2017_11_04_py_notebook.ipynb\r\n",
      "-rw-r--r--@ 1 ellorentesj  staff  1168157 Nov  3 06:40 Master_class_05-06v5.pdf\r\n",
      "-rw-r--r--  1 ellorentesj  staff     1560 Jan  5 20:18 Untitled.ipynb\r\n"
     ]
    }
   ],
   "source": [
    "!ls -l #lista el directorio / directory listing"
   ]
  },
  {
   "cell_type": "code",
   "execution_count": 5,
   "metadata": {},
   "outputs": [
    {
     "name": "stdout",
     "output_type": "stream",
     "text": [
      "     1\texit\r\n",
      "     2\tdnf search liquidprompt\r\n",
      "     3\tls\r\n",
      "     4\tdf -h\r\n",
      "     5\tsudo systemctl stop network.target\r\n",
      "     6\tsudo systemctl stop postgresql.service\r\n",
      "     7\tmount\r\n",
      "     8\tsudo mount -o ro,remount /dev/mapper/fedora-root\r\n",
      "     9\tps aux | more\r\n",
      "    10\tsudo systemctl stop NetworkManager.service \r\n",
      "    11\tsudo mount -o ro,remount /dev/mapper/fedora-root\r\n",
      "    12\tsudo systemctl stop system-postgresql.slice\r\n",
      "    13\tsudo mount -o ro,remount /dev/mapper/fedora-root\r\n",
      "    14\tps aux | more\r\n",
      "    15\tsudo systemctl stop avahi-daemon.service\r\n",
      "    16\tsudo systemctl stop firewalld.service\r\n",
      "    17\tsudo dnf install zerofree\r\n",
      "    18\tsudo mount -o ro,remount /dev/mapper/fedora-root\r\n",
      "    19\tsudo systemctl stop rtkit-daemon.service\r\n",
      "    20\tsudo mount -o ro,remount /dev/mapper/fedora-root\r\n",
      "    21\tsudo killall dhclient\r\n",
      "    22\tsudo mount -o ro,remount /dev/mapper/fedora-root\r\n",
      "    23\t{lsof +L1; lsof | sed -n '/SYSV/d; /DEL\\|(path /p;)}\r\n",
      "    24\t{lsof +L1; lsof | sed -n '/SYSV/d; /DEL\\|(path /p;'}\r\n",
      "    25\tsudo systemctl stop kdm.service\r\n",
      "    26\tsudo mount -o ro,remount /dev/mapper/fedora-root\r\n",
      "    27\tsudo systemctl stop systemd-user-sessions.service\r\n",
      "    28\tsudo mount -o ro,remount /dev/mapper/fedora-root\r\n",
      "    29\tps aux \r\n",
      "    30\tkill 2974\r\n",
      "    31\tsudo kill 2974\r\n",
      "    32\tsudo kill 2968\r\n",
      "    33\tsudo mount -o ro,remount /dev/mapper/fedora-root\r\n",
      "    34\tsudo kill 4084\r\n",
      "    35\tps\r\n",
      "    36\tps aux\r\n",
      "    37\tsudo kill 908\r\n",
      "    38\tsudo kill 907\r\n",
      "    39\tsudo systemctl stop polkit.service\r\n",
      "    40\tsudo mount -o ro,remount /dev/mapper/fedora-root\r\n",
      "    41\tps aux \r\n",
      "    42\tsudo kill 745\r\n",
      "    43\tsudo systemctl stop dbus.service\r\n",
      "    44\tps aux\r\n",
      "    45\tsudo systemctl stop alsa-state.service\r\n",
      "    46\tsudo kill 704\r\n",
      "    47\tsudo mount -o ro,remount /dev/mapper/fedora-root\r\n",
      "    48\tzerofree /dev/mapper/fedora-root\r\n",
      "    49\tpoweroff\r\n",
      "    50\tll\r\n",
      "    51\tchsh /?\r\n",
      "    52\tchsh\r\n",
      "    53\t/sbin/chsh\r\n",
      "    54\tsudo dnf install chsh\r\n",
      "    55\tchsh\r\n",
      "    56\tll\r\n",
      "    57\tpwd\r\n",
      "    58\tcd Repositories\r\n",
      "    59\tll\r\n",
      "    60\tcd data-science-toolbox\r\n",
      "    61\tll\r\n",
      "    62\tcd ..\r\n",
      "    63\tgit clone https://github.com/iht/master-data-science.git\r\n",
      "    64\tll\r\n",
      "    65\tcd master-data-science/\r\n",
      "    66\tll\r\n",
      "    67\tcat README.md\r\n",
      "    68\tsudo dnf dolphin\r\n",
      "    69\tsudo dnf install dolphin\r\n",
      "    70\tcat README.md\r\n",
      "    71\tgit log\r\n",
      "    72\tkedit /home/dsc/.gitconfig\r\n",
      "    73\temacs /home/dsc/.gitconfig\r\n",
      "    74\tll\r\n",
      "    75\temacs README.md\r\n",
      "    76\tgit log\r\n",
      "    77\tgit status\r\n",
      "    78\tgit add README.md\r\n",
      "    79\tgit status\r\n",
      "    80\tgit commit\r\n",
      "    81\tgit log\r\n",
      "    82\tgit push\r\n",
      "    83\tgit log\r\n",
      "    84\tgit pull\r\n",
      "    85\tcd ..\r\n",
      "    86\tgit pull\r\n",
      "    87\tcd master-data-science\r\n",
      "    88\tgit log\r\n",
      "    89\tsudo dnf install chsh\r\n",
      "    90\tsudo dnf install util-linux-user\r\n",
      "    91\tchsh -l\r\n",
      "    92\twhoami\r\n",
      "    93\techo \"Welcome to master\"\r\n",
      "    94\techo Welcome to master\r\n",
      "    95\tpwd\r\n",
      "    96\tcd Repositories\r\n",
      "    97\tpwd\r\n",
      "    98\tcd ..\r\n",
      "    99\techo this is my $PWD\r\n",
      "   100\techo this is my home dir $PWD\r\n",
      "   101\techo this is my home dir ${PWD}\r\n",
      "   102\techo this is my home dir ${PWD}blabla\r\n",
      "   103\techo this is my home dir $PWD blabla\r\n",
      "   104\techo tienes q crear directorio: $PWD/blabla\r\n",
      "   105\techo tienes q crear directorio: $PWDblabla\r\n",
      "   106\tdirectorio=/dsc/\r\n",
      "   107\techo tienes q crear directorio: $directorioblabla\r\n",
      "   108\techo tienes q crear directorio: ${directorio}blabla\r\n",
      "   109\techo tienes q crear directorio: $directorioblabla\r\n",
      "   110\techo tienes q crear directorio: ${directorio}blabla\r\n",
      "   111\tdirectorio=/dsc/\r\n",
      "   112\techo tienes q crear directorio: $directorioblabla\r\n",
      "   113\techo tienes q crear directorio: ${directorio}blabla\r\n",
      "   114\tdirectorio=$PWD\r\n",
      "   115\techo tienes q crear directorio: ${directorio}blabla\r\n",
      "   116\tcat /etc/os-release\r\n",
      "   117\tcat etc/os-release\r\n",
      "   118\tcd /\r\n",
      "   119\tll\r\n",
      "   120\tpwd\r\n",
      "   121\tcd -\r\n",
      "   122\tcd Data/shell\r\n",
      "   123\tll\r\n",
      "   124\tcat Text_example.txt\r\n",
      "   125\tcd ../../Repositories\r\n",
      "   126\tcd Data/shell\r\n",
      "   127\tcd ~/Data/shell/\r\n",
      "   128\tcd -\r\n",
      "   129\tcd Data/shell\r\n",
      "   130\tcd /home/dsc/Data/shell/\r\n",
      "   131\tcd -\r\n",
      "   132\tcd ./Data/shell\r\n",
      "   133\tcd ../Data/shell\r\n",
      "   134\tcat Text_example.txt\r\n",
      "   135\tcat -n Text_example.txt\r\n",
      "   136\tcd ../../Repositories\r",
      "\r\n",
      "   137\tcat ../Data/shell/Text_example.txt\r\n",
      "   138\texit\r\n",
      "   139\tcd \r\n",
      "   140\tll\r\n",
      "   141\tls\r\n",
      "   142\ttouch one.file\r\n",
      "   143\tls\r\n",
      "   144\tls -l\r\n",
      "   145\ttype ll\r\n",
      "   146\ttype ls\r\n",
      "   147\tls -1\r\n",
      "   148\tls -s\r\n",
      "   149\tls\r\n",
      "   150\tll\r\n",
      "   151\tls\r\n",
      "   152\tls -s\r\n",
      "   153\tls -1 -s\r\n",
      "   154\tls -1s\r\n",
      "   155\tls -s1\r\n",
      "   156\tls -l\r\n",
      "   157\tls -lH\r\n",
      "   158\tls -S\r\n",
      "   159\tls -sS\r\n",
      "   160\tls -lS\r\n",
      "   161\tcd Data/opentraveldata\r\n",
      "   162\tll\r\n",
      "   163\tls -S\r\n",
      "   164\tls -lS\r\n",
      "   165\tls -lSr\r\n",
      "   166\tls -1s\r\n",
      "   167\tls -lS\r\n",
      "   168\tls -lSr\r\n",
      "   169\tls -lt\r\n",
      "   170\tls -ltr\r\n",
      "   171\tls -lt\r\n",
      "   172\tls -lSt\r\n",
      "   173\tls -ltS\r\n",
      "   174\tcd -\r\n",
      "   175\tcd Data/shell\r\n",
      "   176\tll\r\n",
      "   177\tcd ..\r\n",
      "   178\tll\r\n",
      "   179\tcd -\r\n",
      "   180\tll\r\n",
      "   181\tchmod a, rwx Text_example.txt\r\n",
      "   182\tchmod a rwx Text_example.txt\r\n",
      "   183\tchmod -a rwx Text_example.txt\r\n",
      "   184\tchmod a+rwx Text_example.txt\r\n",
      "   185\tll\r\n",
      "   186\tchmod g-rwx Text_example.txt\r\n",
      "   187\tll\r\n",
      "   188\tchmod g-r+w-x Text_example.txt\r\n",
      "   189\tll\r\n",
      "   190\tchmod g+w Text_example.txt\r\n",
      "   191\tll\r\n",
      "   192\tchmod g-rx+w Text_example.txt\r\n",
      "   193\tcd \r\n",
      "   194\tmkdir one\r\n",
      "   195\tll\r\n",
      "   196\tmkdir one/two/theww\r\n",
      "   197\tmkdir -p ne/two/three\r\n",
      "   198\tll\r\n",
      "   199\tls ne/two/three\r\n",
      "   200\tcd ne\r\n",
      "   201\tll\r\n",
      "   202\tcd\r\n",
      "   203\tcd one\r\n",
      "   204\tll\r\n",
      "   205\ttouch empty2.txt\r\n",
      "   206\tll\r\n",
      "   207\tcp empty2.txt empty_copy.txt\r\n",
      "   208\tll\r\n",
      "   209\tchmod 777 empty2.txt\r\n",
      "   210\tll\r\n",
      "   211\tcp ./empty2.txt .empty_copy.txt\r\n",
      "   212\tll\r\n",
      "   213\tcp ./empty2.txt .empty_copy.txt\r\n",
      "   214\tcp -v ./empty2.txt .empty_copy.txt\r\n",
      "   215\tcp -i ./empty2.txt .empty_copy.txt\r\n",
      "   216\tcp -i ./empty2.txt .empty_copy2.txt\r\n",
      "   217\tll\r\n",
      "   218\tcp -i ./empty2.txt empty_copy2.txt\r\n",
      "   219\tll\r\n",
      "   220\tcp -p ./empty2.txt empty_copy3.txt\r\n",
      "   221\tll\r\n",
      "   222\tls -a\r\n",
      "   223\tls -la\r\n",
      "   224\tcd ..\r\n",
      "   225\tcp one two\r\n",
      "   226\tcp -r one two\r\n",
      "   227\tcp one two\r\n",
      "   228\tmkdir three\r\n",
      "   229\tcp one/empty2.txt one/empty_copy2.txt one/empty_copy3.txt one/empty_copy.txt  three\r\n",
      "   230\tls three\r\n",
      "   231\tll\r\n",
      "   232\tmv ne four\r\n",
      "   233\tll\r\n",
      "   234\tmv two four\r\n",
      "   235\tmv -f two four\r\n",
      "   236\tls four\r\n",
      "   237\tcd four\r\n",
      "   238\tll \r\n",
      "   239\trm -rf two\r\n",
      "   240\tll\r\n",
      "   241\tcd ..\r\n",
      "   242\tmv -f two four\r\n",
      "   243\tcd four\r\n",
      "   244\ttouch m\r\n",
      "   245\tcd ..\r\n",
      "   246\tmv -f two four\r\n",
      "   247\tmv -f three four\r\n",
      "   248\tcp -r four one\r\n",
      "   249\tcd four\r\n",
      "   250\tmkdir test\r\n",
      "   251\tcd ..\r\n",
      "   252\tmv one four\r\n",
      "   253\tcp -r four one\r\n",
      "   254\tcd four\r\n",
      "   255\tmkdir one\r\n",
      "   256\tll\r\n",
      "   257\tcd ..\r\n",
      "   258\tmv one four\r\n",
      "   259\tmv one/ four/\r\n",
      "   260\tmv -f one four\r\n",
      "   261\tmv -f one ./four\r\n",
      "   262\tmv -f ./one ./four\r\n",
      "   263\tmv -f ./one ./four/\r\n",
      "   264\tll\r\n",
      "   265\tls one\r\n",
      "   266\tls four\r\n",
      "   267\tmv -f  one  five\r\n",
      "   268\ttouch one.txt\r\n",
      "   269\tll\r\n",
      "   270\tmv one.file one.txt\r\n",
      "   271\tmv -f one.file one.txt\r\n",
      "   272\tll\r\n",
      "   273\tmkdir one\r\n",
      "   274\tmkdir two\r\n",
      "   275\tmv one two\r\n",
      "   276\tcd two\r\n",
      "   277\ttouch file\r\n",
      "   278\tcd ..\r\n",
      "   279\tmv file two\r\n",
      "   280\tmv five two\r\n",
      "   281\tll\r\n",
      "   282\trm four\r\n",
      "   283\trm -r four\r\n",
      "   284\trm -i two\r\n",
      "   285\trm -ri two\r\n",
      "   286\ttype python\r\n",
      "   287\twhich python\r\n",
      "   288\tsudo which python\r\n",
      "   289\twhich cd\r\n",
      "   290\techo $0\r\n",
      "   291\techo $SHELL\r\n",
      "   292\tchsh -l\r\n",
      "   293\techo $SHELL\r\n",
      "   294\tchsh -s /bin/bash\r\n",
      "   295\techo $SHELL\r\n",
      "   296\tchsh --shell /bin/\r\n",
      "   297\tchsh --shell /bin/bash\r\n",
      "   298\tchsh -s /bin/bash\r\n",
      "   299\techo $SHELL\r\n",
      "   300\tsudo chsh -s /bin/bash\r\n",
      "   301\techo $SHELL\r\n",
      "   302\tchsh -s /bin/bash\r\n",
      "   303\tbash\r\n",
      "   304\techo $SHELL\r\n",
      "   305\techo $0\r\n",
      "   306\tcd Repositories/master-data-science\r\n",
      "   307\tchsh -s /bin/zsh\r\n",
      "   308\techo $0\r\n",
      "   309\techo $SHELL\r\n",
      "   310\tbash\r\n",
      "   311\tll\r\n",
      "   312\texit\r\n",
      "   313\thgkehgkjerhgklj\r\n",
      "   314\tbash\r\n",
      "   315\thistory \r\n",
      "   316\thistory  -100\r\n",
      "   317\techo $HISTFILE\r\n",
      "   318\tcd Data/shell\r\n",
      "   319\tll\r\n",
      "   320\tcat Text_example.txt\r\n",
      "   321\tcd\r\n",
      "   322\techo \"Hello\" \r\n",
      "   323\techo \"Hello\" > hello.txt \r\n",
      "   324\tcat hello.txt\r\n",
      "   325\techo \"Hello\" > hello.txt \r\n",
      "   326\techo \"Hello\" >> hello.txt \r\n",
      "   327\tcat hello.txt\r\n",
      "   328\tcd\r\n",
      "   329\tcd Data/shell\r\n",
      "   330\tll\r\n",
      "   331\tcat Text_example.txt\r\n",
      "   332\tcat -n Text_example.txt\r\n",
      "   333\tcat -n Text_example.txt > file_with_num_lines.txt\r\n",
      "   334\tcat file_with_num_lines.txt\r\n",
      "   335\tcat Text_example.txt Text_example.txt >twice.txt\r\n",
      "   336\tcat twice.txt\r\n",
      "   337\tcat etc/os-release\r\n",
      "   338\tcat /etc/os-release\r\n",
      "   339\twc Text_example.txt\r\n",
      "   340\twc -c Text_example.txt\r\n",
      "   341\twc -m Text_example.txt\r\n",
      "   342\tcat Text_example.txt \r\n",
      "   343\tcat Text_example.txt | wc\r\n",
      "   344\thead Text_example.txt\r\n",
      "   345\thead Finn.txt\r\n",
      "   346\thead -2 Finn.txt\r\n",
      "   347\thead -5 Finn.txt\r\n",
      "   348\thead -n 5 Finn.txt\r\n",
      "   349\thead -5 Finn.txt\r\n",
      "   350\thead -n 5 Finn.txt\r\n",
      "   351\thead -n -5 Finn.txt\r\n",
      "   352\thead -n -5 Finn.txt |less\r\n",
      "   353\thead -n -5 Text_example.txt\r\n",
      "   354\tcat Text_example.txt\r\n",
      "   355\tcat -n Text_example.txt| head -n -5 \r\n",
      "   356\tcat -n Text_example.txt\r\n",
      "   357\tcat -n Text_example.txt|head -n 5\r\n",
      "   358\tcat -n Text_example.txt|head -5\r\n",
      "   359\tcat -n Text_example.txt|head +5\r\n",
      "   360\ttail Finn.txt\r\n",
      "   361\tcat -n Text_example.txt|tail -3\r\n",
      "   362\tcat -n Text_example.txt|tail -n -3\r\n",
      "   363\tcat -n Text_example.txt|tail -n +3\r\n",
      "   364\tcat -n Text_example.txt|tail -n +5\r\n",
      "   365\tfind / -name \"*.txt\" - exec ls -l {} \\; -exec sleep 1 \\; >find_file.txt &\r\n",
      "   366\tll\r\n",
      "   367\tfg\r\n",
      "   368\tfind / -name \"*.txt\" - exec ls -l {} \\; -exec sleep 1 \\; >find_file.txt &\r\n",
      "   369\tfind / -name \"*.txt\" - exec ls -l {} \\; -exec sleep 1 \\; >find_file.txt \r\n",
      "   370\tcd /\r\n",
      "   371\tfind  -name \"*.txt\" - exec ls -l {} \\; -exec sleep 1 \\; >find_file.txt \r\n",
      "   372\tcd -\r\n",
      "   373\tfind . -name \"*.txt\" - exec ls -l {} \\; -exec sleep 1 \\; >find_file.txt \r\n",
      "   374\tfind / -iname \"*.txt\" -exec ls -l {} \\; -exec sleep 1 \\; >find_file.txt \r\n",
      "   375\tll\r\n",
      "   376\ttail -f -n 3 find_file.txt\r\n",
      "   377\tbg\r\n",
      "   378\ttail -n -3 find_file.txt\r\n",
      "   379\tfg\r\n",
      "   380\thead -n -5 Finn.txt |less\r\n",
      "   381\tless Finn.txt\r\n",
      "   382\tman less\r\n",
      "   383\tless /?\r\n",
      "   384\tless --help\r\n",
      "   385\tman cd\r\n",
      "   386\tcd /?\r\n",
      "   387\tcd --help\r\n",
      "   388\tll\r\n",
      "   389\tcat -n Text_example.txt| head -n 3\r\n",
      "   390\tcat -n Text_example.txt| head -n -3\r\n",
      "   391\tcat -n Text_example.txt| head -n -3 | tail -n +3\r\n",
      "   392\tcat -n Text_example.txt| head -n -3 \r\n",
      "   393\tcat -n Text_example.txt| head -n -3 | tail -n +2 \r\n",
      "   394\tcat -n Text_example.txt| head -n -3 | tail -n -2 \r\n",
      "   395\tcat -n Text_example.txt| head -n -3 | tail -2 \r\n",
      "   396\tcat -n Text_example.txt| head -n -3 | tail -n +3\r\n",
      "   397\tcat -n Text_example.txt| tail -n -2\r\n",
      "   398\tcat -n Text_example.txt| head -n 3 \r\n",
      "   399\tcat -n Text_example.txt| head -n -3  \r\n",
      "   400\tcat -n Text_example.txt| tail -n +3 |head -n -3\r\n",
      "   401\tcat -n Text_example.txt| head -n -3 | tail -n +3\r\n",
      "   402\tless Finn.txt\r\n",
      "   403\tcd ~/Data/opentraveldata/\r\n",
      "   404\tll\r\n",
      "   405\tless optd_aircraft.csv\r\n",
      "   406\tless optd_por_public.csv\r\n",
      "   407\thead optd_por_public.csv\r\n",
      "   408\tless -S optd_por_public.csv\r\n",
      "   409\twc -l optd_aircraft.csv\r\n",
      "   410\twc optd_aircraft.csv\r\n",
      "   411\ttree\r\n",
      "   412\tcd \r\n",
      "   413\ttree\r\n",
      "   414\tman tree\r\n",
      "   415\ttree -L 2\r\n",
      "   416\ttree -L 2 | less\r\n",
      "   417\techo $HISTFILE\r\n",
      "   418\tcat -n  /home/dsc/.history > 2017_10_21.commands\r\n"
     ]
    }
   ],
   "source": [
    "!cat ./2017_10_21.commands #leectura del fichero / reading file"
   ]
  },
  {
   "cell_type": "code",
   "execution_count": 6,
   "metadata": {
    "collapsed": true
   },
   "outputs": [],
   "source": [
    "text=!cat ./2017_10_21.commands"
   ]
  },
  {
   "cell_type": "code",
   "execution_count": 7,
   "metadata": {},
   "outputs": [
    {
     "data": {
      "text/plain": [
       "['     1\\texit',\n",
       " '     2\\tdnf search liquidprompt',\n",
       " '     3\\tls',\n",
       " '     4\\tdf -h',\n",
       " '     5\\tsudo systemctl stop network.target',\n",
       " '     6\\tsudo systemctl stop postgresql.service',\n",
       " '     7\\tmount',\n",
       " '     8\\tsudo mount -o ro,remount /dev/mapper/fedora-root',\n",
       " '     9\\tps aux | more',\n",
       " '    10\\tsudo systemctl stop NetworkManager.service ',\n",
       " '    11\\tsudo mount -o ro,remount /dev/mapper/fedora-root',\n",
       " '    12\\tsudo systemctl stop system-postgresql.slice',\n",
       " '    13\\tsudo mount -o ro,remount /dev/mapper/fedora-root',\n",
       " '    14\\tps aux | more',\n",
       " '    15\\tsudo systemctl stop avahi-daemon.service',\n",
       " '    16\\tsudo systemctl stop firewalld.service',\n",
       " '    17\\tsudo dnf install zerofree',\n",
       " '    18\\tsudo mount -o ro,remount /dev/mapper/fedora-root',\n",
       " '    19\\tsudo systemctl stop rtkit-daemon.service',\n",
       " '    20\\tsudo mount -o ro,remount /dev/mapper/fedora-root',\n",
       " '    21\\tsudo killall dhclient',\n",
       " '    22\\tsudo mount -o ro,remount /dev/mapper/fedora-root',\n",
       " \"    23\\t{lsof +L1; lsof | sed -n '/SYSV/d; /DEL\\\\|(path /p;)}\",\n",
       " \"    24\\t{lsof +L1; lsof | sed -n '/SYSV/d; /DEL\\\\|(path /p;'}\",\n",
       " '    25\\tsudo systemctl stop kdm.service',\n",
       " '    26\\tsudo mount -o ro,remount /dev/mapper/fedora-root',\n",
       " '    27\\tsudo systemctl stop systemd-user-sessions.service',\n",
       " '    28\\tsudo mount -o ro,remount /dev/mapper/fedora-root',\n",
       " '    29\\tps aux ',\n",
       " '    30\\tkill 2974',\n",
       " '    31\\tsudo kill 2974',\n",
       " '    32\\tsudo kill 2968',\n",
       " '    33\\tsudo mount -o ro,remount /dev/mapper/fedora-root',\n",
       " '    34\\tsudo kill 4084',\n",
       " '    35\\tps',\n",
       " '    36\\tps aux',\n",
       " '    37\\tsudo kill 908',\n",
       " '    38\\tsudo kill 907',\n",
       " '    39\\tsudo systemctl stop polkit.service',\n",
       " '    40\\tsudo mount -o ro,remount /dev/mapper/fedora-root',\n",
       " '    41\\tps aux ',\n",
       " '    42\\tsudo kill 745',\n",
       " '    43\\tsudo systemctl stop dbus.service',\n",
       " '    44\\tps aux',\n",
       " '    45\\tsudo systemctl stop alsa-state.service',\n",
       " '    46\\tsudo kill 704',\n",
       " '    47\\tsudo mount -o ro,remount /dev/mapper/fedora-root',\n",
       " '    48\\tzerofree /dev/mapper/fedora-root',\n",
       " '    49\\tpoweroff',\n",
       " '    50\\tll',\n",
       " '    51\\tchsh /?',\n",
       " '    52\\tchsh',\n",
       " '    53\\t/sbin/chsh',\n",
       " '    54\\tsudo dnf install chsh',\n",
       " '    55\\tchsh',\n",
       " '    56\\tll',\n",
       " '    57\\tpwd',\n",
       " '    58\\tcd Repositories',\n",
       " '    59\\tll',\n",
       " '    60\\tcd data-science-toolbox',\n",
       " '    61\\tll',\n",
       " '    62\\tcd ..',\n",
       " '    63\\tgit clone https://github.com/iht/master-data-science.git',\n",
       " '    64\\tll',\n",
       " '    65\\tcd master-data-science/',\n",
       " '    66\\tll',\n",
       " '    67\\tcat README.md',\n",
       " '    68\\tsudo dnf dolphin',\n",
       " '    69\\tsudo dnf install dolphin',\n",
       " '    70\\tcat README.md',\n",
       " '    71\\tgit log',\n",
       " '    72\\tkedit /home/dsc/.gitconfig',\n",
       " '    73\\temacs /home/dsc/.gitconfig',\n",
       " '    74\\tll',\n",
       " '    75\\temacs README.md',\n",
       " '    76\\tgit log',\n",
       " '    77\\tgit status',\n",
       " '    78\\tgit add README.md',\n",
       " '    79\\tgit status',\n",
       " '    80\\tgit commit',\n",
       " '    81\\tgit log',\n",
       " '    82\\tgit push',\n",
       " '    83\\tgit log',\n",
       " '    84\\tgit pull',\n",
       " '    85\\tcd ..',\n",
       " '    86\\tgit pull',\n",
       " '    87\\tcd master-data-science',\n",
       " '    88\\tgit log',\n",
       " '    89\\tsudo dnf install chsh',\n",
       " '    90\\tsudo dnf install util-linux-user',\n",
       " '    91\\tchsh -l',\n",
       " '    92\\twhoami',\n",
       " '    93\\techo \"Welcome to master\"',\n",
       " '    94\\techo Welcome to master',\n",
       " '    95\\tpwd',\n",
       " '    96\\tcd Repositories',\n",
       " '    97\\tpwd',\n",
       " '    98\\tcd ..',\n",
       " '    99\\techo this is my $PWD',\n",
       " '   100\\techo this is my home dir $PWD',\n",
       " '   101\\techo this is my home dir ${PWD}',\n",
       " '   102\\techo this is my home dir ${PWD}blabla',\n",
       " '   103\\techo this is my home dir $PWD blabla',\n",
       " '   104\\techo tienes q crear directorio: $PWD/blabla',\n",
       " '   105\\techo tienes q crear directorio: $PWDblabla',\n",
       " '   106\\tdirectorio=/dsc/',\n",
       " '   107\\techo tienes q crear directorio: $directorioblabla',\n",
       " '   108\\techo tienes q crear directorio: ${directorio}blabla',\n",
       " '   109\\techo tienes q crear directorio: $directorioblabla',\n",
       " '   110\\techo tienes q crear directorio: ${directorio}blabla',\n",
       " '   111\\tdirectorio=/dsc/',\n",
       " '   112\\techo tienes q crear directorio: $directorioblabla',\n",
       " '   113\\techo tienes q crear directorio: ${directorio}blabla',\n",
       " '   114\\tdirectorio=$PWD',\n",
       " '   115\\techo tienes q crear directorio: ${directorio}blabla',\n",
       " '   116\\tcat /etc/os-release',\n",
       " '   117\\tcat etc/os-release',\n",
       " '   118\\tcd /',\n",
       " '   119\\tll',\n",
       " '   120\\tpwd',\n",
       " '   121\\tcd -',\n",
       " '   122\\tcd Data/shell',\n",
       " '   123\\tll',\n",
       " '   124\\tcat Text_example.txt',\n",
       " '   125\\tcd ../../Repositories',\n",
       " '   126\\tcd Data/shell',\n",
       " '   127\\tcd ~/Data/shell/',\n",
       " '   128\\tcd -',\n",
       " '   129\\tcd Data/shell',\n",
       " '   130\\tcd /home/dsc/Data/shell/',\n",
       " '   131\\tcd -',\n",
       " '   132\\tcd ./Data/shell',\n",
       " '   133\\tcd ../Data/shell',\n",
       " '   134\\tcat Text_example.txt',\n",
       " '   135\\tcat -n Text_example.txt',\n",
       " '   136\\tcd ../../Repositories',\n",
       " '   137\\tcat ../Data/shell/Text_example.txt',\n",
       " '   138\\texit',\n",
       " '   139\\tcd ',\n",
       " '   140\\tll',\n",
       " '   141\\tls',\n",
       " '   142\\ttouch one.file',\n",
       " '   143\\tls',\n",
       " '   144\\tls -l',\n",
       " '   145\\ttype ll',\n",
       " '   146\\ttype ls',\n",
       " '   147\\tls -1',\n",
       " '   148\\tls -s',\n",
       " '   149\\tls',\n",
       " '   150\\tll',\n",
       " '   151\\tls',\n",
       " '   152\\tls -s',\n",
       " '   153\\tls -1 -s',\n",
       " '   154\\tls -1s',\n",
       " '   155\\tls -s1',\n",
       " '   156\\tls -l',\n",
       " '   157\\tls -lH',\n",
       " '   158\\tls -S',\n",
       " '   159\\tls -sS',\n",
       " '   160\\tls -lS',\n",
       " '   161\\tcd Data/opentraveldata',\n",
       " '   162\\tll',\n",
       " '   163\\tls -S',\n",
       " '   164\\tls -lS',\n",
       " '   165\\tls -lSr',\n",
       " '   166\\tls -1s',\n",
       " '   167\\tls -lS',\n",
       " '   168\\tls -lSr',\n",
       " '   169\\tls -lt',\n",
       " '   170\\tls -ltr',\n",
       " '   171\\tls -lt',\n",
       " '   172\\tls -lSt',\n",
       " '   173\\tls -ltS',\n",
       " '   174\\tcd -',\n",
       " '   175\\tcd Data/shell',\n",
       " '   176\\tll',\n",
       " '   177\\tcd ..',\n",
       " '   178\\tll',\n",
       " '   179\\tcd -',\n",
       " '   180\\tll',\n",
       " '   181\\tchmod a, rwx Text_example.txt',\n",
       " '   182\\tchmod a rwx Text_example.txt',\n",
       " '   183\\tchmod -a rwx Text_example.txt',\n",
       " '   184\\tchmod a+rwx Text_example.txt',\n",
       " '   185\\tll',\n",
       " '   186\\tchmod g-rwx Text_example.txt',\n",
       " '   187\\tll',\n",
       " '   188\\tchmod g-r+w-x Text_example.txt',\n",
       " '   189\\tll',\n",
       " '   190\\tchmod g+w Text_example.txt',\n",
       " '   191\\tll',\n",
       " '   192\\tchmod g-rx+w Text_example.txt',\n",
       " '   193\\tcd ',\n",
       " '   194\\tmkdir one',\n",
       " '   195\\tll',\n",
       " '   196\\tmkdir one/two/theww',\n",
       " '   197\\tmkdir -p ne/two/three',\n",
       " '   198\\tll',\n",
       " '   199\\tls ne/two/three',\n",
       " '   200\\tcd ne',\n",
       " '   201\\tll',\n",
       " '   202\\tcd',\n",
       " '   203\\tcd one',\n",
       " '   204\\tll',\n",
       " '   205\\ttouch empty2.txt',\n",
       " '   206\\tll',\n",
       " '   207\\tcp empty2.txt empty_copy.txt',\n",
       " '   208\\tll',\n",
       " '   209\\tchmod 777 empty2.txt',\n",
       " '   210\\tll',\n",
       " '   211\\tcp ./empty2.txt .empty_copy.txt',\n",
       " '   212\\tll',\n",
       " '   213\\tcp ./empty2.txt .empty_copy.txt',\n",
       " '   214\\tcp -v ./empty2.txt .empty_copy.txt',\n",
       " '   215\\tcp -i ./empty2.txt .empty_copy.txt',\n",
       " '   216\\tcp -i ./empty2.txt .empty_copy2.txt',\n",
       " '   217\\tll',\n",
       " '   218\\tcp -i ./empty2.txt empty_copy2.txt',\n",
       " '   219\\tll',\n",
       " '   220\\tcp -p ./empty2.txt empty_copy3.txt',\n",
       " '   221\\tll',\n",
       " '   222\\tls -a',\n",
       " '   223\\tls -la',\n",
       " '   224\\tcd ..',\n",
       " '   225\\tcp one two',\n",
       " '   226\\tcp -r one two',\n",
       " '   227\\tcp one two',\n",
       " '   228\\tmkdir three',\n",
       " '   229\\tcp one/empty2.txt one/empty_copy2.txt one/empty_copy3.txt one/empty_copy.txt  three',\n",
       " '   230\\tls three',\n",
       " '   231\\tll',\n",
       " '   232\\tmv ne four',\n",
       " '   233\\tll',\n",
       " '   234\\tmv two four',\n",
       " '   235\\tmv -f two four',\n",
       " '   236\\tls four',\n",
       " '   237\\tcd four',\n",
       " '   238\\tll ',\n",
       " '   239\\trm -rf two',\n",
       " '   240\\tll',\n",
       " '   241\\tcd ..',\n",
       " '   242\\tmv -f two four',\n",
       " '   243\\tcd four',\n",
       " '   244\\ttouch m',\n",
       " '   245\\tcd ..',\n",
       " '   246\\tmv -f two four',\n",
       " '   247\\tmv -f three four',\n",
       " '   248\\tcp -r four one',\n",
       " '   249\\tcd four',\n",
       " '   250\\tmkdir test',\n",
       " '   251\\tcd ..',\n",
       " '   252\\tmv one four',\n",
       " '   253\\tcp -r four one',\n",
       " '   254\\tcd four',\n",
       " '   255\\tmkdir one',\n",
       " '   256\\tll',\n",
       " '   257\\tcd ..',\n",
       " '   258\\tmv one four',\n",
       " '   259\\tmv one/ four/',\n",
       " '   260\\tmv -f one four',\n",
       " '   261\\tmv -f one ./four',\n",
       " '   262\\tmv -f ./one ./four',\n",
       " '   263\\tmv -f ./one ./four/',\n",
       " '   264\\tll',\n",
       " '   265\\tls one',\n",
       " '   266\\tls four',\n",
       " '   267\\tmv -f  one  five',\n",
       " '   268\\ttouch one.txt',\n",
       " '   269\\tll',\n",
       " '   270\\tmv one.file one.txt',\n",
       " '   271\\tmv -f one.file one.txt',\n",
       " '   272\\tll',\n",
       " '   273\\tmkdir one',\n",
       " '   274\\tmkdir two',\n",
       " '   275\\tmv one two',\n",
       " '   276\\tcd two',\n",
       " '   277\\ttouch file',\n",
       " '   278\\tcd ..',\n",
       " '   279\\tmv file two',\n",
       " '   280\\tmv five two',\n",
       " '   281\\tll',\n",
       " '   282\\trm four',\n",
       " '   283\\trm -r four',\n",
       " '   284\\trm -i two',\n",
       " '   285\\trm -ri two',\n",
       " '   286\\ttype python',\n",
       " '   287\\twhich python',\n",
       " '   288\\tsudo which python',\n",
       " '   289\\twhich cd',\n",
       " '   290\\techo $0',\n",
       " '   291\\techo $SHELL',\n",
       " '   292\\tchsh -l',\n",
       " '   293\\techo $SHELL',\n",
       " '   294\\tchsh -s /bin/bash',\n",
       " '   295\\techo $SHELL',\n",
       " '   296\\tchsh --shell /bin/',\n",
       " '   297\\tchsh --shell /bin/bash',\n",
       " '   298\\tchsh -s /bin/bash',\n",
       " '   299\\techo $SHELL',\n",
       " '   300\\tsudo chsh -s /bin/bash',\n",
       " '   301\\techo $SHELL',\n",
       " '   302\\tchsh -s /bin/bash',\n",
       " '   303\\tbash',\n",
       " '   304\\techo $SHELL',\n",
       " '   305\\techo $0',\n",
       " '   306\\tcd Repositories/master-data-science',\n",
       " '   307\\tchsh -s /bin/zsh',\n",
       " '   308\\techo $0',\n",
       " '   309\\techo $SHELL',\n",
       " '   310\\tbash',\n",
       " '   311\\tll',\n",
       " '   312\\texit',\n",
       " '   313\\thgkehgkjerhgklj',\n",
       " '   314\\tbash',\n",
       " '   315\\thistory ',\n",
       " '   316\\thistory  -100',\n",
       " '   317\\techo $HISTFILE',\n",
       " '   318\\tcd Data/shell',\n",
       " '   319\\tll',\n",
       " '   320\\tcat Text_example.txt',\n",
       " '   321\\tcd',\n",
       " '   322\\techo \"Hello\" ',\n",
       " '   323\\techo \"Hello\" > hello.txt ',\n",
       " '   324\\tcat hello.txt',\n",
       " '   325\\techo \"Hello\" > hello.txt ',\n",
       " '   326\\techo \"Hello\" >> hello.txt ',\n",
       " '   327\\tcat hello.txt',\n",
       " '   328\\tcd',\n",
       " '   329\\tcd Data/shell',\n",
       " '   330\\tll',\n",
       " '   331\\tcat Text_example.txt',\n",
       " '   332\\tcat -n Text_example.txt',\n",
       " '   333\\tcat -n Text_example.txt > file_with_num_lines.txt',\n",
       " '   334\\tcat file_with_num_lines.txt',\n",
       " '   335\\tcat Text_example.txt Text_example.txt >twice.txt',\n",
       " '   336\\tcat twice.txt',\n",
       " '   337\\tcat etc/os-release',\n",
       " '   338\\tcat /etc/os-release',\n",
       " '   339\\twc Text_example.txt',\n",
       " '   340\\twc -c Text_example.txt',\n",
       " '   341\\twc -m Text_example.txt',\n",
       " '   342\\tcat Text_example.txt ',\n",
       " '   343\\tcat Text_example.txt | wc',\n",
       " '   344\\thead Text_example.txt',\n",
       " '   345\\thead Finn.txt',\n",
       " '   346\\thead -2 Finn.txt',\n",
       " '   347\\thead -5 Finn.txt',\n",
       " '   348\\thead -n 5 Finn.txt',\n",
       " '   349\\thead -5 Finn.txt',\n",
       " '   350\\thead -n 5 Finn.txt',\n",
       " '   351\\thead -n -5 Finn.txt',\n",
       " '   352\\thead -n -5 Finn.txt |less',\n",
       " '   353\\thead -n -5 Text_example.txt',\n",
       " '   354\\tcat Text_example.txt',\n",
       " '   355\\tcat -n Text_example.txt| head -n -5 ',\n",
       " '   356\\tcat -n Text_example.txt',\n",
       " '   357\\tcat -n Text_example.txt|head -n 5',\n",
       " '   358\\tcat -n Text_example.txt|head -5',\n",
       " '   359\\tcat -n Text_example.txt|head +5',\n",
       " '   360\\ttail Finn.txt',\n",
       " '   361\\tcat -n Text_example.txt|tail -3',\n",
       " '   362\\tcat -n Text_example.txt|tail -n -3',\n",
       " '   363\\tcat -n Text_example.txt|tail -n +3',\n",
       " '   364\\tcat -n Text_example.txt|tail -n +5',\n",
       " '   365\\tfind / -name \"*.txt\" - exec ls -l {} \\\\; -exec sleep 1 \\\\; >find_file.txt &',\n",
       " '   366\\tll',\n",
       " '   367\\tfg',\n",
       " '   368\\tfind / -name \"*.txt\" - exec ls -l {} \\\\; -exec sleep 1 \\\\; >find_file.txt &',\n",
       " '   369\\tfind / -name \"*.txt\" - exec ls -l {} \\\\; -exec sleep 1 \\\\; >find_file.txt ',\n",
       " '   370\\tcd /',\n",
       " '   371\\tfind  -name \"*.txt\" - exec ls -l {} \\\\; -exec sleep 1 \\\\; >find_file.txt ',\n",
       " '   372\\tcd -',\n",
       " '   373\\tfind . -name \"*.txt\" - exec ls -l {} \\\\; -exec sleep 1 \\\\; >find_file.txt ',\n",
       " '   374\\tfind / -iname \"*.txt\" -exec ls -l {} \\\\; -exec sleep 1 \\\\; >find_file.txt ',\n",
       " '   375\\tll',\n",
       " '   376\\ttail -f -n 3 find_file.txt',\n",
       " '   377\\tbg',\n",
       " '   378\\ttail -n -3 find_file.txt',\n",
       " '   379\\tfg',\n",
       " '   380\\thead -n -5 Finn.txt |less',\n",
       " '   381\\tless Finn.txt',\n",
       " '   382\\tman less',\n",
       " '   383\\tless /?',\n",
       " '   384\\tless --help',\n",
       " '   385\\tman cd',\n",
       " '   386\\tcd /?',\n",
       " '   387\\tcd --help',\n",
       " '   388\\tll',\n",
       " '   389\\tcat -n Text_example.txt| head -n 3',\n",
       " '   390\\tcat -n Text_example.txt| head -n -3',\n",
       " '   391\\tcat -n Text_example.txt| head -n -3 | tail -n +3',\n",
       " '   392\\tcat -n Text_example.txt| head -n -3 ',\n",
       " '   393\\tcat -n Text_example.txt| head -n -3 | tail -n +2 ',\n",
       " '   394\\tcat -n Text_example.txt| head -n -3 | tail -n -2 ',\n",
       " '   395\\tcat -n Text_example.txt| head -n -3 | tail -2 ',\n",
       " '   396\\tcat -n Text_example.txt| head -n -3 | tail -n +3',\n",
       " '   397\\tcat -n Text_example.txt| tail -n -2',\n",
       " '   398\\tcat -n Text_example.txt| head -n 3 ',\n",
       " '   399\\tcat -n Text_example.txt| head -n -3  ',\n",
       " '   400\\tcat -n Text_example.txt| tail -n +3 |head -n -3',\n",
       " '   401\\tcat -n Text_example.txt| head -n -3 | tail -n +3',\n",
       " '   402\\tless Finn.txt',\n",
       " '   403\\tcd ~/Data/opentraveldata/',\n",
       " '   404\\tll',\n",
       " '   405\\tless optd_aircraft.csv',\n",
       " '   406\\tless optd_por_public.csv',\n",
       " '   407\\thead optd_por_public.csv',\n",
       " '   408\\tless -S optd_por_public.csv',\n",
       " '   409\\twc -l optd_aircraft.csv',\n",
       " '   410\\twc optd_aircraft.csv',\n",
       " '   411\\ttree',\n",
       " '   412\\tcd ',\n",
       " '   413\\ttree',\n",
       " '   414\\tman tree',\n",
       " '   415\\ttree -L 2',\n",
       " '   416\\ttree -L 2 | less',\n",
       " '   417\\techo $HISTFILE',\n",
       " '   418\\tcat -n  /home/dsc/.history > 2017_10_21.commands']"
      ]
     },
     "execution_count": 7,
     "metadata": {},
     "output_type": "execute_result"
    }
   ],
   "source": [
    "text"
   ]
  },
  {
   "cell_type": "code",
   "execution_count": 19,
   "metadata": {
    "collapsed": true
   },
   "outputs": [],
   "source": [
    "#función para leer un fichero y buscar una repetición, devuelve el número de repeticiones\n",
    "#function to read a file and search a repetition, returns the number of repetitions\n",
    "def read_file (file, pattern):\n",
    "    text=!cat $file\n",
    "    repetitions=text.\\\n",
    "        spstr\\\n",
    "        .upper()\\\n",
    "        .count(pattern.upper())\n",
    "    return repetitions"
   ]
  },
  {
   "cell_type": "code",
   "execution_count": 20,
   "metadata": {},
   "outputs": [
    {
     "data": {
      "text/plain": [
       "45"
      ]
     },
     "execution_count": 20,
     "metadata": {},
     "output_type": "execute_result"
    }
   ],
   "source": [
    "read_file('./2017_10_21.commands','cat')"
   ]
  },
  {
   "cell_type": "code",
   "execution_count": 21,
   "metadata": {
    "collapsed": true
   },
   "outputs": [],
   "source": [
    "b=!ls -l"
   ]
  },
  {
   "cell_type": "code",
   "execution_count": 22,
   "metadata": {},
   "outputs": [
    {
     "data": {
      "text/plain": [
       "['total 2480',\n",
       " '-rw-r--r--@ 1 ellorentesj  staff    10595 Oct 22 06:34 2017_10_21.commands',\n",
       " '-rw-r--r--@ 1 ellorentesj  staff    18848 Nov  5 07:42 2017_11_03-04_ipython_cmd.txt',\n",
       " '-rw-r--r--@ 1 ellorentesj  staff     1560 Nov  5 07:42 2017_11_03_psql_cmd.txt',\n",
       " '-rw-r--r--@ 1 ellorentesj  staff    17852 Nov  5 07:42 2017_11_04_py_notebook.ipynb',\n",
       " '-rw-r--r--@ 1 ellorentesj  staff  1168157 Nov  3 06:40 Master_class_05-06v5.pdf',\n",
       " '-rw-r--r--  1 ellorentesj  staff    38652 Jan  5 20:52 Py1.ipynb']"
      ]
     },
     "execution_count": 22,
     "metadata": {},
     "output_type": "execute_result"
    }
   ],
   "source": [
    "b"
   ]
  },
  {
   "cell_type": "code",
   "execution_count": 23,
   "metadata": {},
   "outputs": [
    {
     "data": {
      "text/plain": [
       "IPython.utils.text.SList"
      ]
     },
     "execution_count": 23,
     "metadata": {},
     "output_type": "execute_result"
    }
   ],
   "source": [
    "type(b)"
   ]
  },
  {
   "cell_type": "code",
   "execution_count": 24,
   "metadata": {},
   "outputs": [
    {
     "data": {
      "text/plain": [
       "['total 2480',\n",
       " '-rw-r--r--@ 1 ellorentesj  staff    10595 Oct 22 06:34 2017_10_21.commands']"
      ]
     },
     "execution_count": 24,
     "metadata": {},
     "output_type": "execute_result"
    }
   ],
   "source": [
    "b[:2]"
   ]
  },
  {
   "cell_type": "code",
   "execution_count": 29,
   "metadata": {},
   "outputs": [
    {
     "data": {
      "text/plain": [
       "'total 2480 -rw-r--r--@ 1 ellorentesj  staff    10595 Oct 22 06:34 2017_10_21.commands -rw-r--r--@ 1 '"
      ]
     },
     "execution_count": 29,
     "metadata": {},
     "output_type": "execute_result"
    }
   ],
   "source": [
    "b.spstr[:100]"
   ]
  },
  {
   "cell_type": "code",
   "execution_count": 30,
   "metadata": {},
   "outputs": [
    {
     "data": {
      "text/plain": [
       "2"
      ]
     },
     "execution_count": 30,
     "metadata": {},
     "output_type": "execute_result"
    }
   ],
   "source": [
    "b.spstr[:100].count('rw')"
   ]
  },
  {
   "cell_type": "code",
   "execution_count": 31,
   "metadata": {},
   "outputs": [
    {
     "data": {
      "text/plain": [
       "'TOTAL 2480 -RW-R--R--@ 1 ELLORENTESJ  STAFF    10595 OCT 22 06:34 2017_10_21.COMMANDS -RW-R--R--@ 1 '"
      ]
     },
     "execution_count": 31,
     "metadata": {},
     "output_type": "execute_result"
    }
   ],
   "source": [
    "b.spstr[:100].upper()"
   ]
  },
  {
   "cell_type": "code",
   "execution_count": 36,
   "metadata": {},
   "outputs": [
    {
     "data": {
      "text/plain": [
       "2"
      ]
     },
     "execution_count": 36,
     "metadata": {},
     "output_type": "execute_result"
    }
   ],
   "source": [
    "b.spstr[:100].upper().count('RW')"
   ]
  },
  {
   "cell_type": "code",
   "execution_count": 37,
   "metadata": {},
   "outputs": [
    {
     "data": {
      "text/plain": [
       "478"
      ]
     },
     "execution_count": 37,
     "metadata": {},
     "output_type": "execute_result"
    }
   ],
   "source": [
    "len(b.spstr)"
   ]
  },
  {
   "cell_type": "code",
   "execution_count": 38,
   "metadata": {},
   "outputs": [
    {
     "name": "stdout",
     "output_type": "stream",
     "text": [
      "Once deleted, variables cannot be recovered. Proceed (y/[n])? y\n"
     ]
    }
   ],
   "source": [
    "%reset"
   ]
  },
  {
   "cell_type": "code",
   "execution_count": 43,
   "metadata": {},
   "outputs": [
    {
     "name": "stdout",
     "output_type": "stream",
     "text": [
      "3\n"
     ]
    },
    {
     "data": {
      "text/plain": [
       "int"
      ]
     },
     "execution_count": 43,
     "metadata": {},
     "output_type": "execute_result"
    }
   ],
   "source": [
    "a=3\n",
    "print(a)\n",
    "type(a)"
   ]
  },
  {
   "cell_type": "code",
   "execution_count": 47,
   "metadata": {},
   "outputs": [
    {
     "name": "stdout",
     "output_type": "stream",
     "text": [
      "[2, 3, None, 7]\n"
     ]
    }
   ],
   "source": [
    "a_list=[2,3,None,7]\n",
    "print(a_list)"
   ]
  },
  {
   "cell_type": "code",
   "execution_count": 48,
   "metadata": {},
   "outputs": [
    {
     "name": "stdout",
     "output_type": "stream",
     "text": [
      "[2, 3, None, 7, 2, 3, None, 7]\n"
     ]
    }
   ],
   "source": [
    "b_list=a_list+a_list #concatenar listas / concatenate list\n",
    "print(b_list)"
   ]
  },
  {
   "cell_type": "code",
   "execution_count": 49,
   "metadata": {},
   "outputs": [
    {
     "name": "stdout",
     "output_type": "stream",
     "text": [
      "[[2, 3, None, 7], [2, 3, None, 7]]\n"
     ]
    }
   ],
   "source": [
    "c_list=list([a_list,a_list]) #lista de listas / list of lists\n",
    "print(c_list)"
   ]
  },
  {
   "cell_type": "code",
   "execution_count": 50,
   "metadata": {},
   "outputs": [
    {
     "name": "stdout",
     "output_type": "stream",
     "text": [
      "[2, 3, None, 7]\n"
     ]
    }
   ],
   "source": [
    "print(c_list[0]) #acceso a la primera lista / access to the first list"
   ]
  },
  {
   "cell_type": "code",
   "execution_count": 51,
   "metadata": {},
   "outputs": [
    {
     "name": "stdout",
     "output_type": "stream",
     "text": [
      "2\n"
     ]
    }
   ],
   "source": [
    "print(c_list[0][0]) #acceso al primer elemento de la primer lista / access to the first element of the first list"
   ]
  },
  {
   "cell_type": "code",
   "execution_count": 53,
   "metadata": {},
   "outputs": [
    {
     "name": "stdout",
     "output_type": "stream",
     "text": [
      "['I', 'live', 'in']\n"
     ]
    }
   ],
   "source": [
    "a=['I','live','in']\n",
    "print(a)"
   ]
  },
  {
   "cell_type": "code",
   "execution_count": 54,
   "metadata": {},
   "outputs": [
    {
     "name": "stdout",
     "output_type": "stream",
     "text": [
      "['I', 'live', 'in', 'Madrid']\n"
     ]
    }
   ],
   "source": [
    "a.append('Madrid') #concatenar elementos en una lista / concatenate elements in a list\n",
    "print(a)"
   ]
  },
  {
   "cell_type": "code",
   "execution_count": 55,
   "metadata": {},
   "outputs": [
    {
     "name": "stdout",
     "output_type": "stream",
     "text": [
      "['I do not', 'live', 'in', 'Barcelona']\n"
     ]
    }
   ],
   "source": [
    "a[0]='I do not'\n",
    "a[3]='Barcelona'\n",
    "print(a)"
   ]
  },
  {
   "cell_type": "code",
   "execution_count": 57,
   "metadata": {},
   "outputs": [
    {
     "data": {
      "text/plain": [
       "4618637256"
      ]
     },
     "execution_count": 57,
     "metadata": {},
     "output_type": "execute_result"
    }
   ],
   "source": [
    "id(a)"
   ]
  },
  {
   "cell_type": "code",
   "execution_count": 58,
   "metadata": {},
   "outputs": [
    {
     "name": "stdout",
     "output_type": "stream",
     "text": [
      "['I', 'live', 'in', 'Madrid', 'since', '1982']\n"
     ]
    }
   ],
   "source": [
    "a[0]='I'\n",
    "a[3]='Madrid'\n",
    "a=a+['since','1982'] #añadir elementos o concatenar elementos a la lista / add or concatenate elements to the list\n",
    "print(a)"
   ]
  },
  {
   "cell_type": "code",
   "execution_count": 60,
   "metadata": {},
   "outputs": [
    {
     "name": "stdout",
     "output_type": "stream",
     "text": [
      "['I', 'live', 'in', 'Madrid', 'since', '1982', 'and', 'I like it']\n"
     ]
    }
   ],
   "source": [
    "a.extend(['and','I like it'])\n",
    "print(a)"
   ]
  },
  {
   "cell_type": "code",
   "execution_count": 61,
   "metadata": {},
   "outputs": [
    {
     "name": "stdout",
     "output_type": "stream",
     "text": [
      "['I', 'live', 'in', 'Madrid Capital', 'Madrid', 'since', '1982', 'and', 'I like it']\n"
     ]
    }
   ],
   "source": [
    "a.insert(3,'Madrid Capital')\n",
    "print(a)"
   ]
  },
  {
   "cell_type": "code",
   "execution_count": 64,
   "metadata": {},
   "outputs": [
    {
     "name": "stdout",
     "output_type": "stream",
     "text": [
      "['I', 'live', 'in', 'Madrid Capital', 'since', '1982', 'and', 'I like it']\n"
     ]
    }
   ],
   "source": [
    "a.remove('Madrid')\n",
    "print(a)"
   ]
  },
  {
   "cell_type": "code",
   "execution_count": 65,
   "metadata": {},
   "outputs": [
    {
     "data": {
      "text/plain": [
       "False"
      ]
     },
     "execution_count": 65,
     "metadata": {},
     "output_type": "execute_result"
    }
   ],
   "source": [
    "'Madrid' in a"
   ]
  },
  {
   "cell_type": "code",
   "execution_count": 66,
   "metadata": {},
   "outputs": [
    {
     "name": "stdout",
     "output_type": "stream",
     "text": [
      "in\n",
      "['I', 'live', 'Madrid Capital', 'since', '1982', 'and', 'I like it']\n"
     ]
    }
   ],
   "source": [
    "element=a.pop(2) #extraer elemento de la lista / extract elemente of the list\n",
    "print(element)\n",
    "print(a)"
   ]
  },
  {
   "cell_type": "code",
   "execution_count": 67,
   "metadata": {},
   "outputs": [
    {
     "name": "stdout",
     "output_type": "stream",
     "text": [
      "[1, 5, 10, 2, 4]\n"
     ]
    }
   ],
   "source": [
    "a=[1, 5, 10, 2, 4]\n",
    "print(a)"
   ]
  },
  {
   "cell_type": "code",
   "execution_count": 68,
   "metadata": {},
   "outputs": [
    {
     "name": "stdout",
     "output_type": "stream",
     "text": [
      "[1, 2, 4, 5, 10]\n"
     ]
    }
   ],
   "source": [
    "a.sort() #lista ordenada / sort list\n",
    "print(a)"
   ]
  },
  {
   "cell_type": "code",
   "execution_count": 70,
   "metadata": {},
   "outputs": [
    {
     "name": "stdout",
     "output_type": "stream",
     "text": [
      "['Hello', 'I', 'live', 'in', 'Madrid']\n"
     ]
    }
   ],
   "source": [
    "b=['Hello','I','live','in','Madrid']\n",
    "print(b)"
   ]
  },
  {
   "cell_type": "code",
   "execution_count": 71,
   "metadata": {},
   "outputs": [
    {
     "name": "stdout",
     "output_type": "stream",
     "text": [
      "['Hello', 'I', 'Madrid', 'in', 'live']\n"
     ]
    }
   ],
   "source": [
    "b.sort()\n",
    "print(b)"
   ]
  },
  {
   "cell_type": "code",
   "execution_count": 72,
   "metadata": {},
   "outputs": [
    {
     "name": "stdout",
     "output_type": "stream",
     "text": [
      "['Hello', 'I', 'in', 'live', 'Madrid']\n"
     ]
    }
   ],
   "source": [
    "b.sort(key=str.lower)\n",
    "print(b)"
   ]
  },
  {
   "cell_type": "code",
   "execution_count": 73,
   "metadata": {},
   "outputs": [
    {
     "name": "stdout",
     "output_type": "stream",
     "text": [
      "['live', 'in', 'Madrid', 'I', 'Hello']\n"
     ]
    }
   ],
   "source": [
    "b.sort(reverse=True)\n",
    "print(b)"
   ]
  },
  {
   "cell_type": "code",
   "execution_count": 74,
   "metadata": {},
   "outputs": [
    {
     "name": "stdout",
     "output_type": "stream",
     "text": [
      "['I', 'in', 'live', 'Hello', 'Madrid']\n"
     ]
    }
   ],
   "source": [
    "b.sort(key=len)\n",
    "print(b)"
   ]
  },
  {
   "cell_type": "code",
   "execution_count": 76,
   "metadata": {},
   "outputs": [
    {
     "name": "stdout",
     "output_type": "stream",
     "text": [
      "['Hello', 'live', 'I', 'in', 'Madrid']\n"
     ]
    }
   ],
   "source": [
    "b.sort(key=lambda x:x.count('l'),reverse=True)\n",
    "print(b)"
   ]
  },
  {
   "cell_type": "code",
   "execution_count": 77,
   "metadata": {},
   "outputs": [
    {
     "name": "stdout",
     "output_type": "stream",
     "text": [
      "['I', 'in', 'Madrid', 'live', 'Hello']\n"
     ]
    }
   ],
   "source": [
    "def my_function(x):\n",
    "    return x.count('l')\n",
    "\n",
    "b.sort(key=my_function)\n",
    "print(b)"
   ]
  },
  {
   "cell_type": "code",
   "execution_count": 78,
   "metadata": {
    "collapsed": true
   },
   "outputs": [],
   "source": [
    "int_list=[1,2,0,4]"
   ]
  },
  {
   "cell_type": "code",
   "execution_count": 81,
   "metadata": {},
   "outputs": [
    {
     "name": "stdout",
     "output_type": "stream",
     "text": [
      "[2, 4, 0, 8]\n",
      "[2, 4, 0, 8]\n"
     ]
    }
   ],
   "source": [
    "def multiply_element(x):\n",
    "    return x*2\n",
    "\n",
    "def apply_to_the_list(some_list,f):\n",
    "    return [f(x) for x in some_list]\n",
    "\n",
    "print(apply_to_the_list(int_list,lambda x:x*2))\n",
    "print(apply_to_the_list(int_list,multiply_element))"
   ]
  }
 ],
 "metadata": {
  "kernelspec": {
   "display_name": "Python 3",
   "language": "python",
   "name": "python3"
  },
  "language_info": {
   "codemirror_mode": {
    "name": "ipython",
    "version": 3
   },
   "file_extension": ".py",
   "mimetype": "text/x-python",
   "name": "python",
   "nbconvert_exporter": "python",
   "pygments_lexer": "ipython3",
   "version": "3.6.2"
  }
 },
 "nbformat": 4,
 "nbformat_minor": 2
}
